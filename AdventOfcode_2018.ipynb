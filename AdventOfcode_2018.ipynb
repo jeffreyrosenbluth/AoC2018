{
 "cells": [
  {
   "cell_type": "markdown",
   "metadata": {},
   "source": [
    "# Advent of Code 2018"
   ]
  },
  {
   "cell_type": "markdown",
   "metadata": {},
   "source": [
    "## Utility Functions"
   ]
  },
  {
   "cell_type": "code",
   "execution_count": 1,
   "metadata": {
    "scrolled": true
   },
   "outputs": [],
   "source": [
    "from dataclasses import dataclass\n",
    "from datetime import datetime, date, time, timedelta\n",
    "\n",
    "@dataclass(frozen=True)\n",
    "class Point2D:\n",
    "    x: int\n",
    "    y: int\n",
    "            \n",
    "def smult(s, t):\n",
    "    return tuple(s * x for x in t)"
   ]
  },
  {
   "cell_type": "markdown",
   "metadata": {},
   "source": [
    "## Norvig's Utilities"
   ]
  },
  {
   "cell_type": "code",
   "execution_count": 2,
   "metadata": {
    "scrolled": true
   },
   "outputs": [],
   "source": [
    "# Python 3.x Utility Functions\n",
    "\n",
    "%matplotlib inline\n",
    "import matplotlib.pyplot as plt\n",
    "\n",
    "import os\n",
    "import urllib.request\n",
    "\n",
    "import re\n",
    "import numpy as np\n",
    "import math\n",
    "import random\n",
    "import time\n",
    "\n",
    "from collections import Counter, defaultdict, namedtuple, deque, abc, OrderedDict\n",
    "from functools   import lru_cache, reduce\n",
    "from statistics  import mean, median, mode, stdev, variance\n",
    "from itertools   import (permutations, combinations, chain, cycle, product, islice, \n",
    "                         takewhile, zip_longest, count as count_from)\n",
    "from heapq       import heappop, heappush\n",
    "from numba       import jit\n",
    "\n",
    "letters  = 'abcdefghijklmnopqrstuvwxyz'\n",
    "\n",
    "cache = lru_cache(None)\n",
    "\n",
    "cat = ''.join\n",
    "\n",
    "Ø   = frozenset() # Empty set\n",
    "inf = float('inf')\n",
    "BIG = 10 ** 999\n",
    "\n",
    "################ Functions for Input, Parsing\n",
    "def Input(day, line_parser=str.strip, file_template='data/advent2018/input{}.txt'):\n",
    "    \"For this day's input file, return a tuple of each line parsed by `line_parser`.\"\n",
    "    return mapt(line_parser, open(file_template.format(day)))\n",
    "    \n",
    "def integers(text): \n",
    "    \"A tuple of all integers in a string (ignore other characters).\"\n",
    "    return mapt(int, re.findall(r'-?\\d+', text))\n",
    "        \n",
    "def error(err=RuntimeError, *args): raise err(*args)\n",
    "\n",
    "################ Functions on Iterables\n",
    "\n",
    "def first(iterable, default=None): \n",
    "    \"The first item in an iterable, or default if it is empty.\"\n",
    "    return next(iter(iterable), default)\n",
    "\n",
    "def first_true(iterable, pred=None, default=None):\n",
    "    \"\"\"Returns the first true value in the iterable.\n",
    "    If no true value is found, returns *default*\n",
    "    If *pred* is not None, returns the first item\n",
    "    for which pred(item) is true.\"\"\"\n",
    "    # first_true([a,b,c], default=x) --> a or b or c or x\n",
    "    # first_true([a,b], fn, x) --> a if fn(a) else b if fn(b) else x\n",
    "    return next(filter(pred, iterable), default)\n",
    "\n",
    "def nth(iterable, n, default=None):\n",
    "    \"Returns the nth item of iterable, or a default value\"\n",
    "    return next(islice(iterable, n, None), default)\n",
    "\n",
    "def upto(iterable, maxval):\n",
    "    \"From a monotonically increasing iterable, generate all the values <= maxval.\"\n",
    "    # Why <= maxval rather than < maxval? In part because that's how Ruby's upto does it.\n",
    "    return takewhile(lambda x: x <= maxval, iterable)\n",
    "\n",
    "identity = lambda x: x\n",
    "\n",
    "def groupby(iterable, key=identity):\n",
    "    \"Return a dict of {key(item): [items...]} grouping all items in iterable by keys.\"\n",
    "    groups = defaultdict(list)\n",
    "    for item in iterable:\n",
    "        groups[key(item)].append(item)\n",
    "    return groups\n",
    "\n",
    "def grouper(iterable, n, fillvalue=None):\n",
    "    \"\"\"Collect data into fixed-length chunks:\n",
    "    grouper('ABCDEFG', 3, 'x') --> ABC DEF Gxx\"\"\"\n",
    "    args = [iter(iterable)] * n\n",
    "    return zip_longest(*args, fillvalue=fillvalue)\n",
    "\n",
    "def overlapping(iterable, n):\n",
    "    \"\"\"Generate all (overlapping) n-element subsequences of iterable.\n",
    "    overlapping('ABCDEFG', 3) --> ABC BCD CDE DEF EFG\"\"\"\n",
    "    if isinstance(iterable, abc.Sequence):\n",
    "        yield from (iterable[i:i+n] for i in range(len(iterable) + 1 - n))\n",
    "    else:\n",
    "        result = deque(maxlen=n)\n",
    "        for x in iterable:\n",
    "            result.append(x)\n",
    "            if len(result) == n:\n",
    "                yield tuple(result)\n",
    "                \n",
    "def pairwise(iterable):\n",
    "    \"s -> (s0,s1), (s1,s2), (s2, s3), ...\"\n",
    "    return overlapping(iterable, 2)\n",
    "\n",
    "def sequence(iterable, type=tuple):\n",
    "    \"Coerce iterable to sequence: leave alone if already a sequence, else make it `type`.\"\n",
    "    return iterable if isinstance(iterable, abc.Sequence) else type(iterable)\n",
    "\n",
    "def join(iterable, sep=''):\n",
    "    \"Join the items in iterable, converting each to a string first.\"\n",
    "    return sep.join(map(str, iterable))\n",
    "                \n",
    "def powerset(iterable):\n",
    "    \"Yield all subsets of items.\"\n",
    "    items = list(iterable)\n",
    "    for r in range(len(items)+1):\n",
    "        for c in combinations(items, r):\n",
    "            yield c\n",
    "            \n",
    "def quantify(iterable, pred=bool):\n",
    "    \"Count how many times the predicate is true.\"\n",
    "    return sum(map(pred, iterable))\n",
    "\n",
    "def length(iterable):\n",
    "    \"Same as len(list(iterable)), but without consuming memory.\"\n",
    "    return sum(1 for _ in iterable)\n",
    "\n",
    "def shuffled(iterable):\n",
    "    \"Create a new list out of iterable, and shuffle it.\"\n",
    "    new = list(iterable)\n",
    "    random.shuffle(new)\n",
    "    return new\n",
    "    \n",
    "flatten = chain.from_iterable\n",
    "\n",
    "################ Functional programming\n",
    "\n",
    "def mapt(fn, *args): \n",
    "    \"Do a map, and make the results into a tuple.\"\n",
    "    return tuple(map(fn, *args))\n",
    "\n",
    "def map2d(fn, grid):\n",
    "    \"Apply fn to every element in a 2-dimensional grid.\"\n",
    "    return tuple(mapt(fn, row) for row in grid)\n",
    "\n",
    "def repeat(n, fn, arg, *args, **kwds):\n",
    "    \"Repeat arg = fn(arg) n times, return arg.\"\n",
    "    return nth(repeatedly(fn, arg, *args, **kwds), n)\n",
    "\n",
    "def repeatedly(fn, arg, *args, **kwds):\n",
    "    \"Yield arg, fn(arg), fn(fn(arg)), ...\"\n",
    "    yield arg\n",
    "    while True:\n",
    "        arg = fn(arg, *args, **kwds)\n",
    "        yield arg\n",
    "        \n",
    "def compose(f, g): \n",
    "    \"The function that computes f(g(x)).\"\n",
    "    return lambda x: f(g(x))\n",
    "\n",
    "################ Making immutable objects\n",
    "            \n",
    "class Set(frozenset):\n",
    "    \"A frozenset, but with a prettier printer.\"\n",
    "    def __repr__(self): return '{' + join(sorted(self), ', ') + '}'\n",
    "    \n",
    "def canon(items, typ=None):\n",
    "    \"Canonicalize these order-independent items into a hashable canonical form.\"\n",
    "    typ = typ or (cat if isinstance(items, str) else tuple)\n",
    "    return typ(sorted(items))\n",
    "            \n",
    "################ Math Functions\n",
    "            \n",
    "def transpose(matrix): return tuple(zip(*matrix))\n",
    "\n",
    "def isqrt(n):\n",
    "    \"Integer square root (rounds down).\"\n",
    "    return int(n ** 0.5)\n",
    "\n",
    "def ints(start, end, step=1):\n",
    "    \"The integers from start to end, inclusive: range(start, end+1)\"\n",
    "    return range(start, end + 1, step)\n",
    "\n",
    "def floats(start, end, step=1.0):\n",
    "    \"Yield floats from start to end (inclusive), by increments of step.\"\n",
    "    m = (1.0 if step >= 0 else -1.0)\n",
    "    while start * m <= end * m:\n",
    "        yield start\n",
    "        start += step\n",
    "        \n",
    "def multiply(numbers):\n",
    "    \"Multiply all the numbers together.\"\n",
    "    result = 1\n",
    "    for n in numbers:\n",
    "        result *= n\n",
    "    return result\n",
    "\n",
    "import operator as op\n",
    "\n",
    "operations = {'>': op.gt, '>=': op.ge, '==': op.eq,\n",
    "              '<': op.lt, '<=': op.le, '!=': op.ne,\n",
    "              '+': op.add, '-': op.sub, '*': op.mul, \n",
    "              '/': op.truediv, '**': op.pow}\n",
    "\n",
    "################ 2-D points implemented using (x, y) tuples\n",
    "\n",
    "def X(point): return point[0]\n",
    "def Y(point): return point[1]\n",
    "\n",
    "origin = (0, 0)\n",
    "HEADINGS = UP, LEFT, DOWN, RIGHT = (0, -1), (-1, 0), (0, 1), (1, 0)\n",
    "\n",
    "def turn_right(heading): return HEADINGS[HEADINGS.index(heading) - 1]\n",
    "def turn_around(heading):return HEADINGS[HEADINGS.index(heading) - 2]\n",
    "def turn_left(heading):  return HEADINGS[HEADINGS.index(heading) - 3]\n",
    "\n",
    "def add(A, B): \n",
    "    \"Element-wise addition of two n-dimensional vectors.\"\n",
    "    return mapt(sum, zip(A, B))\n",
    "\n",
    "def neighbors4(point): \n",
    "    \"The four neighboring squares.\"\n",
    "    x, y = point\n",
    "    return (          (x, y-1),\n",
    "            (x-1, y),           (x+1, y), \n",
    "                      (x, y+1))\n",
    "\n",
    "def neighbors8(point): \n",
    "    \"The eight neighboring squares.\"\n",
    "    x, y = point \n",
    "    return ((x-1, y-1), (x, y-1), (x+1, y-1),\n",
    "            (x-1, y),             (x+1, y),\n",
    "            (x-1, y+1), (x, y+1), (x+1, y+1))\n",
    "\n",
    "def cityblock_distance(P, Q=origin): \n",
    "    \"Manhatten distance between two points.\"\n",
    "    return sum(abs(p - q) for p, q in zip(P, Q))\n",
    "\n",
    "def distance(P, Q=origin): \n",
    "    \"Straight-line (hypotenuse) distance between two points.\"\n",
    "    return sum((p - q) ** 2 for p, q in zip(P, Q)) ** 0.5\n",
    "\n",
    "def king_distance(P, Q=origin):\n",
    "    \"Number of chess King moves between two points.\"\n",
    "    return max(abs(p - q) for p, q in zip(P, Q))\n",
    "\n",
    "################ Debugging \n",
    "\n",
    "def trace1(f):\n",
    "    \"Print a trace of the input and output of a function on one line.\"\n",
    "    def traced_f(*args):\n",
    "        result = f(*args)\n",
    "        print('{}({}) = {}'.format(f.__name__, ', '.join(map(str, args)), result))\n",
    "        return result\n",
    "    return traced_f\n",
    "\n",
    "def grep(pattern, iterable):\n",
    "    \"Print lines from iterable that match pattern.\"\n",
    "    for line in iterable:\n",
    "        if re.search(pattern, line):\n",
    "            print(line)\n",
    "            \n",
    "class Struct:\n",
    "    \"A structure that can have any fields defined.\"\n",
    "    def __init__(self, **entries): self.__dict__.update(entries)\n",
    "    def __repr__(self): \n",
    "        fields = ['{}={}'.format(f, self.__dict__[f]) \n",
    "                  for f in sorted(self.__dict__)]\n",
    "        return 'Struct({})'.format(', '.join(fields))\n",
    "\n",
    "################ A* and Breadth-First Search (tracking states, not actions)\n",
    "\n",
    "def always(value): return (lambda *args: value)\n",
    "\n",
    "def Astar(start, moves_func, h_func, cost_func=always(1)):\n",
    "    \"Find a shortest sequence of states from start to a goal state (where h_func(s) == 0).\"\n",
    "    frontier  = [(h_func(start), start)] # A priority queue, ordered by path length, f = g + h\n",
    "    previous  = {start: None}  # start state has no previous state; other states will\n",
    "    path_cost = {start: 0}     # The cost of the best path to a state.\n",
    "    Path      = lambda s: ([] if (s is None) else Path(previous[s]) + [s])\n",
    "    while frontier:\n",
    "        (f, s) = heappop(frontier)\n",
    "        if h_func(s) == 0:\n",
    "            return Path(s)\n",
    "        for s2 in moves_func(s):\n",
    "            g = path_cost[s] + cost_func(s, s2)\n",
    "            if s2 not in path_cost or g < path_cost[s2]:\n",
    "                heappush(frontier, (g + h_func(s2), s2))\n",
    "                path_cost[s2] = g\n",
    "                previous[s2] = s\n",
    "\n",
    "def bfs(start, moves_func, goals):\n",
    "    \"Breadth-first search\"\n",
    "    goal_func = (goals if callable(goals) else lambda s: s in goals)\n",
    "    return Astar(start, moves_func, lambda s: (0 if goal_func(s) else 1))"
   ]
  },
  {
   "cell_type": "markdown",
   "metadata": {},
   "source": [
    "## Day 1: Chronal Calibration"
   ]
  },
  {
   "cell_type": "code",
   "execution_count": 3,
   "metadata": {
    "scrolled": true
   },
   "outputs": [
    {
     "data": {
      "text/plain": [
       "595"
      ]
     },
     "execution_count": 3,
     "metadata": {},
     "output_type": "execute_result"
    }
   ],
   "source": [
    "data1 = Input(1, int)\n",
    "sum(data1)"
   ]
  },
  {
   "cell_type": "markdown",
   "metadata": {},
   "source": [
    "### Part Two"
   ]
  },
  {
   "cell_type": "code",
   "execution_count": 4,
   "metadata": {
    "scrolled": true
   },
   "outputs": [
    {
     "data": {
      "text/plain": [
       "80598"
      ]
     },
     "execution_count": 4,
     "metadata": {},
     "output_type": "execute_result"
    }
   ],
   "source": [
    "def first_repeat(data):\n",
    "    current, freqs = 0, {0}\n",
    "    for f in data:\n",
    "        current += f\n",
    "        if current in freqs:\n",
    "            return current\n",
    "        freqs.add(current)\n",
    "\n",
    "first_repeat(cycle(data1))"
   ]
  },
  {
   "cell_type": "markdown",
   "metadata": {},
   "source": [
    "## Day 2: Inventory Management System"
   ]
  },
  {
   "cell_type": "code",
   "execution_count": 5,
   "metadata": {
    "scrolled": true
   },
   "outputs": [
    {
     "data": {
      "text/plain": [
       "6474"
      ]
     },
     "execution_count": 5,
     "metadata": {},
     "output_type": "execute_result"
    }
   ],
   "source": [
    "data2 = Input(2)\n",
    "\n",
    "def two_three(str):\n",
    "    c = Set(Counter(str).values())\n",
    "    return (2 in c, 3 in c)\n",
    "\n",
    "def check_sum(data): return multiply(reduce(lambda p,t: add(p, two_three(t)), data, (0,0)))\n",
    "\n",
    "check_sum(data2)"
   ]
  },
  {
   "cell_type": "markdown",
   "metadata": {},
   "source": [
    "### Part Two"
   ]
  },
  {
   "cell_type": "code",
   "execution_count": 6,
   "metadata": {
    "scrolled": true
   },
   "outputs": [
    {
     "data": {
      "text/plain": [
       "'mxhwoglxgeauywfkztndcvjqr'"
      ]
     },
     "execution_count": 6,
     "metadata": {},
     "output_type": "execute_result"
    }
   ],
   "source": [
    "def diff(s1, s2): return sum(x[0] != x[1] for x in zip(s1, s2))\n",
    "\n",
    "def common(data):\n",
    "    d = sorted(data)\n",
    "    a, b = first(p for p in pairwise(d) if diff(p[0], p[1]) == 1)\n",
    "    return cat(a[i] for i in range(len(a)) if a[i] == b[i])\n",
    "    \n",
    "common(data2)"
   ]
  },
  {
   "cell_type": "markdown",
   "metadata": {},
   "source": [
    "##  Day 3: No Matter How You Slice It"
   ]
  },
  {
   "cell_type": "code",
   "execution_count": 7,
   "metadata": {
    "scrolled": true
   },
   "outputs": [
    {
     "data": {
      "text/plain": [
       "104126"
      ]
     },
     "execution_count": 7,
     "metadata": {},
     "output_type": "execute_result"
    }
   ],
   "source": [
    "data3 = Input(3, integers)\n",
    "\n",
    "def dim(l): return (Point2D(l[1], l[2]), Point2D(l[1] + l[3], l[2] + l[4]))\n",
    "\n",
    "def counts(data):\n",
    "    ds = map(dim, data)\n",
    "    c = Counter()\n",
    "    for d in ds:\n",
    "        for i in range(d[0].x + 1, d[1].x + 1):\n",
    "            for j in range(d[0].y + 1, d[1].y + 1):\n",
    "                c[(i,j)] += 1\n",
    "    return sum(1 for x in c.values() if x > 1)\n",
    "    \n",
    "counts(data3)"
   ]
  },
  {
   "cell_type": "markdown",
   "metadata": {},
   "source": [
    "### Part Two"
   ]
  },
  {
   "cell_type": "code",
   "execution_count": 8,
   "metadata": {
    "scrolled": true
   },
   "outputs": [
    {
     "data": {
      "text/plain": [
       "(695, 337, 825, 27, 17)"
      ]
     },
     "execution_count": 8,
     "metadata": {},
     "output_type": "execute_result"
    }
   ],
   "source": [
    "def separate(d1, d2):\n",
    "    p = Point2D(d1[1], d1[2])\n",
    "    q = Point2D(d2[1], d2[2])\n",
    "    pw, ph = d1[3], d1[4]\n",
    "    qw, qh = d2[3], d2[4]\n",
    "    return p.x > q.x + qw or p.x + pw < q.x or p.y > q.y + qh or p.y + ph < q.y\n",
    "    \n",
    "def overlaps(d, ds):\n",
    "    count = 0\n",
    "    for x in ds:\n",
    "        if not separate(d, x):\n",
    "            if count == 1: return True\n",
    "            else: count += 1\n",
    "    return False\n",
    "    \n",
    "def intact(data):\n",
    "    for d in data:\n",
    "        if not overlaps(d, data):\n",
    "            return d\n",
    "        \n",
    "\n",
    "intact(data3)"
   ]
  },
  {
   "cell_type": "markdown",
   "metadata": {},
   "source": [
    "## Day 4: Repose Record"
   ]
  },
  {
   "cell_type": "code",
   "execution_count": 9,
   "metadata": {
    "scrolled": true
   },
   "outputs": [
    {
     "name": "stdout",
     "output_type": "stream",
     "text": [
      "#179 50 8950\n"
     ]
    }
   ],
   "source": [
    "def parse4(t):\n",
    "    result = []\n",
    "    t1 = map(lambda x: x.strip('['), t)\n",
    "    t2 = map(lambda x: x.replace(']', ''), t1)\n",
    "    t3 = map(lambda x: x.split(), t2)\n",
    "    for r in t3:\n",
    "        r[0] = date(*map(int, r[0].split('-')))\n",
    "        h, m = r[1].split(':')\n",
    "        if h == '23':\n",
    "            r[1] = -1\n",
    "        else:\n",
    "            r[1] = int(m)\n",
    "        result.append(r)\n",
    "    guard = ''\n",
    "    for r in result:\n",
    "        if r[2] == 'Guard':\n",
    "            guard = r[3]\n",
    "        elif r[2] == 'falls':\n",
    "            r[2] = guard\n",
    "            r[3] = 'sleep'\n",
    "        elif r[2] == 'wakes':\n",
    "            r[2]= guard\n",
    "            r[3] = 'wake'\n",
    "        else: r = 'ERROR'\n",
    "    result = filter(lambda x: x[2] != 'Guard', result)\n",
    "    return list(result)\n",
    "        \n",
    "data4 = parse4(sorted(Input(4)))\n",
    "\n",
    "def mkdict(data):\n",
    "    d = dict()\n",
    "    sleep = None\n",
    "    for r in data:\n",
    "        if r[3] == 'sleep':\n",
    "            sleep = r[1]\n",
    "        else:\n",
    "            if r[2] in d:\n",
    "                d[r[2]].append((sleep, r[1]))\n",
    "            else:\n",
    "                d[r[2]] = [(sleep, r[1])]\n",
    "    return d\n",
    "    \n",
    "def mins(xs):\n",
    "    total = 0\n",
    "    for x in xs:\n",
    "        total += x[1] - x[0]\n",
    "    return total\n",
    "    \n",
    "def deltadict(d):\n",
    "    newdict = dict()\n",
    "    for k, v in d.items():\n",
    "        newdict[k] = mins(v)\n",
    "    return newdict\n",
    "\n",
    "def sleeper(data):\n",
    "    d = mkdict(data)\n",
    "    d1 = deltadict(d)\n",
    "    m = 0\n",
    "    km = ''\n",
    "    for k, v in d1.items():\n",
    "        if v > m: \n",
    "            m = v\n",
    "            km = k\n",
    "    return km, d[km]\n",
    "\n",
    "def counter(xs):\n",
    "    c = Counter()\n",
    "    for x in xs:\n",
    "        for i in range(x[0],x[1]):\n",
    "            c[i] += 1\n",
    "    return c\n",
    "        \n",
    "k , d = sleeper(data4)\n",
    "m = counter(d).most_common()[0]\n",
    "print(k, m[0], int(k.lstrip('#')) * m[0])\n"
   ]
  },
  {
   "cell_type": "markdown",
   "metadata": {},
   "source": [
    "### Part Two"
   ]
  },
  {
   "cell_type": "code",
   "execution_count": 10,
   "metadata": {
    "scrolled": true
   },
   "outputs": [
    {
     "name": "stdout",
     "output_type": "stream",
     "text": [
      "1783 44 78452\n"
     ]
    }
   ],
   "source": [
    "def sleepy_minute(data):\n",
    "    d = mkdict(data)\n",
    "    s = dict()\n",
    "    for k, v in d.items():\n",
    "        m = counter(v).most_common()[0]\n",
    "        s[k] = m\n",
    "    n = 0\n",
    "    x = 0\n",
    "    r = 0\n",
    "    for k, v in s.items():\n",
    "        if v[1] > x:\n",
    "            n = int(k.lstrip('#'))\n",
    "            x = v[1]\n",
    "            r = v[0]\n",
    "    return (n, r)\n",
    "\n",
    "k, d = sleepy_minute(data4)\n",
    "print(k, d, k*d)  "
   ]
  },
  {
   "cell_type": "markdown",
   "metadata": {},
   "source": [
    "##  Day 5: Alchemical Reduction"
   ]
  },
  {
   "cell_type": "code",
   "execution_count": 11,
   "metadata": {
    "scrolled": true
   },
   "outputs": [
    {
     "data": {
      "text/plain": [
       "9154"
      ]
     },
     "execution_count": 11,
     "metadata": {},
     "output_type": "execute_result"
    }
   ],
   "source": [
    "data5 = cat(Input(5))\n",
    "\n",
    "def opp_dict():\n",
    "    caps = letters.upper()\n",
    "    return dict(list(zip(letters, caps)) + list(zip(caps, letters)))\n",
    "\n",
    "opps = opp_dict()\n",
    "\n",
    "def react(s):\n",
    "    left = deque()\n",
    "    right = deque(s)\n",
    "    while right:\n",
    "        if left and left[-1] == opps[right[0]]:\n",
    "            left.pop()\n",
    "            right.popleft()\n",
    "        else:\n",
    "            left.append(right.popleft())\n",
    "    return len(left)\n",
    "\n",
    "react(data5)"
   ]
  },
  {
   "cell_type": "markdown",
   "metadata": {},
   "source": [
    "### Part 2"
   ]
  },
  {
   "cell_type": "code",
   "execution_count": 12,
   "metadata": {
    "scrolled": true
   },
   "outputs": [
    {
     "data": {
      "text/plain": [
       "4556"
      ]
     },
     "execution_count": 12,
     "metadata": {},
     "output_type": "execute_result"
    }
   ],
   "source": [
    "def improve(data):\n",
    "    lens = []\n",
    "    for c in letters:\n",
    "        s = ''.join(filter(lambda x: x != c and x != c.upper(), data))\n",
    "        d = dict(list(zip(s, s.upper())) + list(zip(s.upper(), s)))\n",
    "        lens.append(react(s))\n",
    "    return min(lens) \n",
    "\n",
    "improve(data5)"
   ]
  },
  {
   "cell_type": "markdown",
   "metadata": {},
   "source": [
    "## Day 6: Chronal Coordinates"
   ]
  },
  {
   "cell_type": "code",
   "execution_count": 13,
   "metadata": {
    "scrolled": true
   },
   "outputs": [
    {
     "data": {
      "text/plain": [
       "3551"
      ]
     },
     "execution_count": 13,
     "metadata": {},
     "output_type": "execute_result"
    }
   ],
   "source": [
    "data6 = Input(6,integers)\n",
    "\n",
    "def closest(pt, xs):\n",
    "    mins = []\n",
    "    minx = inf\n",
    "    ds = tuple(map(lambda x: cityblock_distance(pt, x), xs))\n",
    "    for i in range(len(ds)):\n",
    "        if ds[i] == minx:\n",
    "            mins.append(xs[i])\n",
    "        elif ds[i] < minx:\n",
    "            minx = ds[i]\n",
    "            mins = [xs[i]]\n",
    "    if len(mins) == 1:\n",
    "        return mins.pop(0)\n",
    "    else: \n",
    "        return (0,0)\n",
    "\n",
    "def chronal(data, s, x, y):\n",
    "    result = {}\n",
    "    for x in range(s, x):\n",
    "        for y in range(s, y):\n",
    "            result[(x, y)] = closest((x, y), data)\n",
    "    return result\n",
    "            \n",
    "def count_values(d): return Counter(d.values())\n",
    "        \n",
    "def result6(data):\n",
    "    maxX = reduce(max, map(X, data))\n",
    "    maxY = reduce(max, map(Y, data))\n",
    "    id1 = count_values(chronal(data, 1, maxX, maxY))\n",
    "    id2 = count_values(chronal(data, 0, maxX + 1, maxY + 1))\n",
    "    d = []\n",
    "    for k, v in id1.items():\n",
    "        if id1[k] == id2[k]:\n",
    "            d.append(v)\n",
    "    return max(d)\n",
    "            \n",
    "result6(data6)"
   ]
  },
  {
   "cell_type": "markdown",
   "metadata": {},
   "source": [
    "### Part Two"
   ]
  },
  {
   "cell_type": "code",
   "execution_count": 14,
   "metadata": {
    "scrolled": true
   },
   "outputs": [
    {
     "data": {
      "text/plain": [
       "42513"
      ]
     },
     "execution_count": 14,
     "metadata": {},
     "output_type": "execute_result"
    }
   ],
   "source": [
    "def dists(xs):\n",
    "    ps = []\n",
    "    for r in range(0, 342):\n",
    "        for c in range(0, 355):\n",
    "            ps.append(sum(map(lambda x: cityblock_distance((r, c), x), xs)))\n",
    "    return len(list(filter(lambda y: y < 10000, ps)))\n",
    "\n",
    "dists(data6)\n"
   ]
  },
  {
   "cell_type": "markdown",
   "metadata": {},
   "source": [
    "## Day 7: The Sum of Its Parts "
   ]
  },
  {
   "cell_type": "code",
   "execution_count": 15,
   "metadata": {
    "scrolled": true
   },
   "outputs": [],
   "source": [
    "def parse7(x): \n",
    "    return re.findall(' ([A-Z]) ', x)\n",
    "\n",
    "data7 = Input(7, parse7)"
   ]
  },
  {
   "cell_type": "code",
   "execution_count": 16,
   "metadata": {
    "scrolled": true
   },
   "outputs": [
    {
     "data": {
      "text/plain": [
       "'BGJCNLQUYIFMOEZTADKSPVXRHW'"
      ]
     },
     "execution_count": 16,
     "metadata": {},
     "output_type": "execute_result"
    }
   ],
   "source": [
    "def indegree(graph, node):\n",
    "    degree = 0\n",
    "    for k, v in graph.items():\n",
    "        if node in v:\n",
    "            degree += 1\n",
    "    return degree\n",
    "\n",
    "def kahn(data):\n",
    "    graph = defaultdict(list)\n",
    "    for k, v in data:\n",
    "        graph[k].append(v)\n",
    "    L = []\n",
    "    S = [k for k in graph if indegree(graph, k) == 0]\n",
    "    while S:\n",
    "        S.sort()\n",
    "        n = S.pop(0)\n",
    "        L.append(n)\n",
    "        ms = graph[n]\n",
    "        graph[n] = []\n",
    "        for m in ms:\n",
    "            if indegree(graph, m) == 0 and m not in S:\n",
    "                S.append(m)\n",
    "    return(join(L))\n",
    "  \n",
    "kahn(data7)"
   ]
  },
  {
   "cell_type": "markdown",
   "metadata": {},
   "source": [
    "### Part Two"
   ]
  },
  {
   "cell_type": "code",
   "execution_count": 17,
   "metadata": {
    "scrolled": true
   },
   "outputs": [
    {
     "data": {
      "text/plain": [
       "1017"
      ]
     },
     "execution_count": 17,
     "metadata": {},
     "output_type": "execute_result"
    }
   ],
   "source": [
    "def step_time(c):\n",
    "    return ord(c) - 4\n",
    "\n",
    "def kahn2(data):\n",
    "    graph = defaultdict(list)\n",
    "    for k, v in data:\n",
    "        graph[k].append(v)\n",
    "        \n",
    "    time = 0\n",
    "    A5 = []\n",
    "    S = [k for k in graph if indegree(graph, k) == 0]\n",
    "    \n",
    "    while S or A5:\n",
    "        S.sort()\n",
    "        while S and len(A5) < 5:\n",
    "            c = S.pop(0)\n",
    "            A5.append([c, step_time(c)])\n",
    "        done = min(A5, key=lambda x: x[1])\n",
    "        A5.remove(done)\n",
    "        t = done[1]\n",
    "        time += t\n",
    "        for i in range(len(A5)):\n",
    "            A5[i][1] = A5[i][1] - t\n",
    "        ms = graph[done[0]]\n",
    "        graph[done[0]] = []\n",
    "        for m in ms:\n",
    "            if indegree(graph, m) == 0 and m not in S:\n",
    "                S.append(m)\n",
    "    return time\n",
    "    \n",
    "kahn2(data7)"
   ]
  },
  {
   "cell_type": "markdown",
   "metadata": {},
   "source": [
    "## Day 8"
   ]
  },
  {
   "cell_type": "code",
   "execution_count": 18,
   "metadata": {
    "scrolled": true
   },
   "outputs": [
    {
     "data": {
      "text/plain": [
       "48443"
      ]
     },
     "execution_count": 18,
     "metadata": {},
     "output_type": "execute_result"
    }
   ],
   "source": [
    "data8 = integers(cat(Input(8)))\n",
    "\n",
    "class Tree(object):\n",
    "    def __init__(self):\n",
    "        self.num_children = 0\n",
    "        self.num_metadata = 0\n",
    "        self.metadata = []\n",
    "        self.children = []\n",
    "        \n",
    "def make_tree(data):\n",
    "    n = data.pop(0)\n",
    "    m = data.pop(0)\n",
    "    tree = Tree()\n",
    "    for i in range(n):\n",
    "        tree.children.append(make_tree(data))\n",
    "    for j in range(m):\n",
    "        tree.metadata.append(data.pop(0))\n",
    "    return tree\n",
    "  \n",
    "def sum_meta(tree):\n",
    "    result = sum(tree.metadata)\n",
    "    c = map(sum_meta, tree.children)\n",
    "    return result + sum(c)\n",
    "    \n",
    "sum_meta(make_tree(list(data8)))"
   ]
  },
  {
   "cell_type": "markdown",
   "metadata": {},
   "source": [
    "### Part 2"
   ]
  },
  {
   "cell_type": "code",
   "execution_count": 19,
   "metadata": {
    "scrolled": true
   },
   "outputs": [
    {
     "data": {
      "text/plain": [
       "30063"
      ]
     },
     "execution_count": 19,
     "metadata": {},
     "output_type": "execute_result"
    }
   ],
   "source": [
    "def tree_value(tree):\n",
    "    if not tree.children:\n",
    "        return sum(tree.metadata)\n",
    "    else:\n",
    "        v = 0\n",
    "        for m in tree.metadata:\n",
    "            if m <= len(tree.children):\n",
    "                v += tree_value(tree.children[m - 1])\n",
    "        return v\n",
    "             \n",
    "tree_value(make_tree(list(data8)))"
   ]
  },
  {
   "cell_type": "markdown",
   "metadata": {},
   "source": [
    "## Day 9"
   ]
  },
  {
   "cell_type": "code",
   "execution_count": 20,
   "metadata": {
    "scrolled": true
   },
   "outputs": [
    {
     "data": {
      "text/plain": [
       "393229"
      ]
     },
     "execution_count": 20,
     "metadata": {},
     "output_type": "execute_result"
    }
   ],
   "source": [
    "def play(players, rounds):\n",
    "    chain = deque([0])\n",
    "    scores = defaultdict(int)\n",
    "    \n",
    "    for i in range(1, rounds + 1):\n",
    "        if not i % 23 == 0:\n",
    "            chain.rotate(-1)\n",
    "            chain.append(i)\n",
    "        else:\n",
    "            chain.rotate(7)\n",
    "            scores[i % players] += i + chain.pop()\n",
    "            chain.rotate(-1)\n",
    "    return max(scores.values())\n",
    "        \n",
    "play(441, 71032)"
   ]
  },
  {
   "cell_type": "markdown",
   "metadata": {},
   "source": [
    "### Part 2"
   ]
  },
  {
   "cell_type": "code",
   "execution_count": 21,
   "metadata": {
    "scrolled": true
   },
   "outputs": [
    {
     "data": {
      "text/plain": [
       "3273405195"
      ]
     },
     "execution_count": 21,
     "metadata": {},
     "output_type": "execute_result"
    }
   ],
   "source": [
    "play(441, 7103200)"
   ]
  },
  {
   "cell_type": "markdown",
   "metadata": {},
   "source": [
    "## Day 10: The Stars Align"
   ]
  },
  {
   "cell_type": "code",
   "execution_count": 22,
   "metadata": {
    "scrolled": true
   },
   "outputs": [
    {
     "name": "stdout",
     "output_type": "stream",
     "text": [
      "10639\n"
     ]
    },
    {
     "data": {
      "image/png": "[encoded data removed]",
      "text/plain": [
       "<Figure size 432x288 with 1 Axes>"
      ]
     },
     "metadata": {
      "needs_background": "light"
     },
     "output_type": "display_data"
    }
   ],
   "source": [
    "def tups(tuple4):\n",
    "    a,b,c,d = tuple4\n",
    "    return (a,b), (c,d)\n",
    "\n",
    "data10 = mapt(tups, Input(10, integers))\n",
    "\n",
    "def draw(points):\n",
    "    x = mapt(X, points)\n",
    "    y = mapt(Y, points)\n",
    "    yMax = max(y)\n",
    "    y = mapt(lambda a: yMax - a, y)\n",
    "    plt.scatter(x, y)\n",
    "    plt.show()\n",
    "    \n",
    "def move(pts, vels, n):\n",
    "    def move_point(p, v): \n",
    "        return(add(p, smult(n, v)))\n",
    "    return tuple(move_point(pts[i], vels[i]) for i in range(len(pts)))\n",
    "      \n",
    "def scale(pts):\n",
    "    pts = list(pts)\n",
    "    xs = mapt(X, pts)\n",
    "    ys = mapt(Y, pts)\n",
    "    xMax = max(xs)\n",
    "    yMax = max(ys)\n",
    "    xs1 = mapt(lambda a: a / xMax, xs)\n",
    "    ys1 = mapt(lambda a: 0.25 * a / yMax, ys)\n",
    "    return zip(xs1,ys1)\n",
    "\n",
    "def yMetric(pts):\n",
    "    return abs(max(mapt(Y,pts)) - min(mapt(Y,pts)))\n",
    "\n",
    "def newton(fn, metric, epsilon, max_iter):\n",
    "    guess = 0\n",
    "    iter = 0\n",
    "    while True:\n",
    "        slope = metric(fn(guess + 1)) - metric(fn(guess))\n",
    "        if abs(slope) <= epsilon or iter > max_iter:\n",
    "            return guess\n",
    "        else:\n",
    "            iter += 1\n",
    "            guess = guess - metric(fn(guess)) // slope\n",
    "        \n",
    "points = mapt(X, data10)\n",
    "velocities = mapt(Y, data10)\n",
    "\n",
    "def moveN(n):\n",
    "    return move(points, velocities, n)\n",
    "\n",
    "seconds = newton(moveN, yMetric, 1, 100)\n",
    "print(seconds)\n",
    "draw(tuple(scale(move(points, velocities, seconds))))"
   ]
  },
  {
   "cell_type": "markdown",
   "metadata": {},
   "source": [
    "## Day 11: Chronal Charge"
   ]
  },
  {
   "cell_type": "code",
   "execution_count": 23,
   "metadata": {
    "scrolled": true
   },
   "outputs": [
    {
     "data": {
      "text/plain": [
       "((235, 31), 31)"
      ]
     },
     "execution_count": 23,
     "metadata": {},
     "output_type": "execute_result"
    }
   ],
   "source": [
    "sn = 8772\n",
    "\n",
    "def hundredths(n):\n",
    "    ds = [int(j) for j in str(n)]\n",
    "    if len(ds) < 3:\n",
    "        return 0\n",
    "    else: return ds[-3]\n",
    "\n",
    "@cache\n",
    "def power(x, y, s):\n",
    "    rack_id = x + 10\n",
    "    return hundredths((rack_id * y + s) * rack_id) - 5\n",
    "\n",
    "def square(x, y, s):\n",
    "    return sum(power(u, v, s) for u in (x, x+1, x+2) for v in (y, y+1, y+2))\n",
    "\n",
    "def power_grid(s):\n",
    "    max_power = -inf\n",
    "    max_coords = (0, 0)\n",
    "    for i in range(1, 298):\n",
    "        for j in range(1, 298):\n",
    "            p = square(i, j, s)\n",
    "            if p > max_power:\n",
    "                max_power = p\n",
    "                max_coords = (i, j)\n",
    "    return (max_coords, max_power)\n",
    "\n",
    "power_grid(sn)"
   ]
  },
  {
   "cell_type": "markdown",
   "metadata": {},
   "source": [
    "### Part 2"
   ]
  },
  {
   "cell_type": "code",
   "execution_count": 24,
   "metadata": {
    "scrolled": true
   },
   "outputs": [
    {
     "data": {
      "text/plain": [
       "((241, 65, 10), 73)"
      ]
     },
     "execution_count": 24,
     "metadata": {},
     "output_type": "execute_result"
    }
   ],
   "source": [
    "shape = np.arange(301 * 301, dtype=int)\n",
    "shape = np.reshape(shape,(301,301))\n",
    "regions = np.zeros_like(shape)\n",
    "\n",
    "for i in range(1,301):\n",
    "    for j in range(1,301):\n",
    "        regions[i, j] = power(i, j, sn) + regions[i-1, j] + regions[i, j-1] - regions[i-1, j-1]\n",
    "\n",
    "def best():\n",
    "    max_coord = (0, 0, 0)\n",
    "    max_value = -inf\n",
    "    for n in range(1, 301):\n",
    "        for x in range (n, 301):\n",
    "            for y in range(n, 301):\n",
    "                v = regions[x, y] - regions[x, y-n] - regions[x-n, y] + regions[x-n, y-n]\n",
    "                if v >= max_value:\n",
    "                    max_value = v\n",
    "                    max_coord = (x-n+1, y-n+1, n)\n",
    "    return(max_coord, max_value)\n",
    "\n",
    "best()"
   ]
  },
  {
   "cell_type": "markdown",
   "metadata": {},
   "source": [
    "## Day 12: Subterranean Sustainability"
   ]
  },
  {
   "cell_type": "code",
   "execution_count": 25,
   "metadata": {
    "scrolled": true
   },
   "outputs": [
    {
     "data": {
      "text/plain": [
       "17549"
      ]
     },
     "execution_count": 25,
     "metadata": {},
     "output_type": "execute_result"
    }
   ],
   "source": [
    "data12 = Input(12)\n",
    "\n",
    "state = '.' * 1000 + data12[0][15:] + '.' * 1000\n",
    "data12 = data12[2:]\n",
    "state, data12\n",
    "\n",
    "def make_dict(data):\n",
    "    rules = dict()\n",
    "    for d in data:\n",
    "        template, result = d.split(' => ')\n",
    "        rules[template] = result\n",
    "    return rules\n",
    "    \n",
    "def next_gen(state, dict):\n",
    "    acc = []\n",
    "    for i in range(2, len(state) - 2):\n",
    "        acc.append(dict[state[i-2 : i+3]])\n",
    "    return '..' + ''.join(acc) + '..'\n",
    "    \n",
    "def generation(state, data, n):\n",
    "    dict = make_dict(data)\n",
    "    new_state = state\n",
    "    for i in range(n):\n",
    "        new_state = next_gen(state, dict)\n",
    "        state = new_state\n",
    "    return state\n",
    "\n",
    "\n",
    "g = generation(state, data12, 200)\n",
    "c = 0\n",
    "v = -1000\n",
    "for i in range(0, len(g)):\n",
    "    if g[i] == '#': \n",
    "        c += v\n",
    "    v += 1\n",
    "        \n",
    "c\n"
   ]
  },
  {
   "cell_type": "markdown",
   "metadata": {},
   "source": [
    "At 200 generations 17549 increases 86 plants per generation so (50bln - 200) * 86 + 17549"
   ]
  },
  {
   "cell_type": "markdown",
   "metadata": {},
   "source": [
    "## Day 13: Mine Cart Madness"
   ]
  },
  {
   "cell_type": "code",
   "execution_count": 26,
   "metadata": {
    "scrolled": true
   },
   "outputs": [
    {
     "name": "stdout",
     "output_type": "stream",
     "text": [
      "(107, 28)\n",
      "(103, 47)\n",
      "(85, 91)\n",
      "(80, 6)\n",
      "(54, 39)\n",
      "(37, 134)\n",
      "(100, 26)\n",
      "(47, 39)\n"
     ]
    },
    {
     "data": {
      "text/plain": [
       "(((123, 36), (0, -1), 0, True),)"
      ]
     },
     "execution_count": 26,
     "metadata": {},
     "output_type": "execute_result"
    }
   ],
   "source": [
    "data13 = mapt(tuple, Input(13, lambda x: x.strip('\\n')))\n",
    "\n",
    "sample13a = \"\"\"/->-\\\\        \n",
    "|   |  /----\\\\\n",
    "| /-+--+-\\\\  |\n",
    "| | |  | v  |\n",
    "\\-+-/  \\\\-+--/\n",
    "\\\\------/     \n",
    "\"\"\"\n",
    "\n",
    "sample13b = \"\"\"/>-<\\\\  \n",
    "|   |  \n",
    "| /<+-\\\\\n",
    "| | | v\n",
    "\\\\>+</ |\n",
    "  |   ^\n",
    "  \\\\<->/\n",
    "\"\"\"\n",
    "\n",
    "sample13a = mapt(tuple, sample13a.splitlines())\n",
    "sample13b = mapt(tuple, sample13b.splitlines())\n",
    "\n",
    "def get_carts(data):\n",
    "    carts = []\n",
    "    new_data = [[0] * len(data[0]) for i in range(len(data))]\n",
    "    for j in range(len(data[0])):\n",
    "        for i in range (len(data)):\n",
    "            d = data[i][j]\n",
    "            if d == 'v':\n",
    "                new_data[i][j] = '|'\n",
    "                carts.append([(i,j), DOWN, 0, True])\n",
    "            elif d == '^':\n",
    "                new_data[i][j] = '|'\n",
    "                carts.append([(i,j), UP, 0, True])\n",
    "            elif d == '>':\n",
    "                new_data[i][j] = '-'\n",
    "                carts.append([(i,j), RIGHT, 0, True])\n",
    "            elif d == '<':\n",
    "                new_data[i][j] = '-'\n",
    "                carts.append([(i,j), LEFT, 0, True])\n",
    "            else:\n",
    "                new_data[i][j] = data[i][j]\n",
    "    return (carts, new_data)\n",
    "\n",
    "def move(cart, data):\n",
    "    loc, direc, inter, active = cart\n",
    "    x, y = loc\n",
    "    new_direc = direc\n",
    "    new_inter = inter\n",
    "    if data[x][y] == '+':\n",
    "        if inter == 0:\n",
    "            new_direc = turn_left(direc)\n",
    "        elif inter == 2:\n",
    "            new_direc = turn_right(direc)\n",
    "        new_inter = (inter + 1) % 3\n",
    "    elif data[x][y] == '/':\n",
    "        if direc == UP or direc == DOWN:\n",
    "            new_direc = turn_right(direc)\n",
    "        elif direc == RIGHT or direc == LEFT:\n",
    "            new_direc = turn_left(direc)\n",
    "    elif data[x][y] == '\\\\':\n",
    "        if direc == UP or direc == DOWN:\n",
    "            new_direc = turn_left(direc)\n",
    "        elif direc == RIGHT or direc == LEFT:\n",
    "            new_direc = turn_right(direc)\n",
    "    new_loc = (x + new_direc[1], y + new_direc[0])\n",
    "    return (new_loc, new_direc, new_inter, active)\n",
    "\n",
    "\n",
    "def kill(cart):\n",
    "    loc, direc, inter, active = cart\n",
    "    return(loc, direc, inter, False)\n",
    "    \n",
    "def live(carts):\n",
    "    return len([c for c in carts if c[3]])\n",
    "    \n",
    "def get_cart(loc, carts):\n",
    "    for idx, c in enumerate(carts):\n",
    "        if loc == c[0]:\n",
    "            return (c, idx)\n",
    "    \n",
    "def madness(data):\n",
    "    carts, data = get_carts(data)\n",
    "    while live(carts) > 1:\n",
    "        carts.sort()\n",
    "        for idx, cart in enumerate(carts):\n",
    "            if not cart[3]: continue\n",
    "            c = move(cart, data)\n",
    "            if c[0] in map(lambda x: x[0], filter(lambda x: x[3], carts)):\n",
    "                print(c[0])\n",
    "                (d, i) = get_cart(c[0], carts)\n",
    "                d = kill(d)\n",
    "                c = kill(c)\n",
    "                carts[i] = d\n",
    "            carts[idx] = c\n",
    "    return tuple(filter(lambda x: x[3], carts))\n",
    "            \n",
    "madness(data13)"
   ]
  },
  {
   "cell_type": "markdown",
   "metadata": {},
   "source": [
    "## Day 14: Chocolate Charts"
   ]
  },
  {
   "cell_type": "code",
   "execution_count": 27,
   "metadata": {
    "scrolled": true
   },
   "outputs": [
    {
     "data": {
      "text/plain": [
       "'1132413111'"
      ]
     },
     "execution_count": 27,
     "metadata": {},
     "output_type": "execute_result"
    }
   ],
   "source": [
    "data14 = 702831\n",
    "\n",
    "start = (3,7)\n",
    "\n",
    "def recipes(score_board, elf1, elf2):\n",
    "    score = score_board[elf1] + score_board[elf2]\n",
    "    if score < 10:\n",
    "        score_board.append(score)\n",
    "    else:\n",
    "        s1 = score // 10\n",
    "        s2 = score - 10 * s1\n",
    "        score_board.extend([s1,s2])\n",
    "    n = len(score_board)\n",
    "    e1 = (score_board[elf1] + 1 + elf1) % n\n",
    "    e2 = (score_board[elf2] + 1 + elf2) % n\n",
    "    return (e1, e2)\n",
    "\n",
    "def top10(score_board, elf1, elf2, rounds):\n",
    "    while len(score_board) < rounds + 10:\n",
    "        elf1, elf2 = recipes(score_board, elf1, elf2)\n",
    "    return ''.join(map(str, score_board[rounds: rounds + 10]))\n",
    "\n",
    "top10(list(start), 0, 1, data14)\n",
    "    "
   ]
  },
  {
   "cell_type": "markdown",
   "metadata": {},
   "source": [
    "### Part 2"
   ]
  },
  {
   "cell_type": "code",
   "execution_count": 28,
   "metadata": {
    "scrolled": true
   },
   "outputs": [
    {
     "data": {
      "text/plain": [
       "20340233"
      ]
     },
     "execution_count": 28,
     "metadata": {},
     "output_type": "execute_result"
    }
   ],
   "source": [
    "data14b = [7, 0, 2, 8 ,3, 1]\n",
    "sample14b = [5, 1, 5, 8, 9]\n",
    "sample14c = [5,9,4,1,4]\n",
    " \n",
    "def left(score_board, elf1, elf2, target):\n",
    "    while score_board[-len(target):] != target and score_board[-len(target) - 1:-1] != target:\n",
    "        elf1, elf2 = recipes(score_board, elf1, elf2)\n",
    "    return len(score_board) - len(target)\n",
    "    \n",
    "left(list(start), 0, 1, data14b)"
   ]
  },
  {
   "cell_type": "markdown",
   "metadata": {},
   "source": [
    "Answer is 20340232 since it has to be one or the other depending on how many socres were added last."
   ]
  },
  {
   "cell_type": "markdown",
   "metadata": {},
   "source": [
    "## Day 15: Beverage Bandits"
   ]
  },
  {
   "cell_type": "code",
   "execution_count": 29,
   "metadata": {
    "scrolled": true
   },
   "outputs": [],
   "source": [
    "data15 = mapt(tuple, Input(15))\n",
    "\n",
    "sample15 = \"\"\"#######\n",
    "#E..G.#\n",
    "#...#.#\n",
    "#.G.#G#\n",
    "#######\n",
    "\"\"\"\n",
    "\n",
    "sample15a = \"\"\"#######\n",
    "#.G...#\n",
    "#...EG#\n",
    "#.#.#G#\n",
    "#..G#E#\n",
    "#.....#\n",
    "#######\n",
    "\"\"\"\n",
    "\n",
    "\n",
    "sample15b = \"\"\"#######\n",
    "#G..#E#\n",
    "#E#E.E#\n",
    "#G.##.#\n",
    "#...#E#\n",
    "#...E.#\n",
    "#######\n",
    "\"\"\"\n",
    "\n",
    "sample15c = \"\"\"#######\n",
    "#E..EG#\n",
    "#.#G.E#\n",
    "#E.##E#\n",
    "#G..#.#\n",
    "#..E#.#\n",
    "#######\n",
    "\"\"\"\n",
    "\n",
    "sample15d = \"\"\"#######\n",
    "#E.G#.#\n",
    "#.#G..#\n",
    "#G.#.G#\n",
    "#G..#.#\n",
    "#...E.#\n",
    "#######\n",
    "\"\"\"\n",
    "\n",
    "sample15e = \"\"\"#######\n",
    "#.E...#\n",
    "#.#..G#\n",
    "#.###.#\n",
    "#E#G#G#\n",
    "#...#G#\n",
    "#######\n",
    "\"\"\"\n",
    "\n",
    "sample15f = \"\"\"#########\n",
    "#G......#\n",
    "#.E.#...#\n",
    "#..##..G#\n",
    "#...##..#\n",
    "#...#...#\n",
    "#.G...G.#\n",
    "#.....G.#\n",
    "#########\n",
    "\"\"\"\n",
    "\n",
    "sample15  = mapt(tuple, sample15.splitlines())\n",
    "sample15a = mapt(tuple, sample15a.splitlines())\n",
    "sample15b = mapt(tuple, sample15b.splitlines())\n",
    "sample15c = mapt(tuple, sample15c.splitlines())\n",
    "sample15d = mapt(tuple, sample15d.splitlines())\n",
    "sample15e = mapt(tuple, sample15e.splitlines())\n",
    "sample15f = mapt(tuple, sample15f.splitlines())\n",
    "\n",
    "def pretty_print(board, hps):\n",
    "    rows, cols = board.shape\n",
    "    for i in range(rows):\n",
    "        extra = []\n",
    "        print_row = []\n",
    "        for j in range(cols):\n",
    "                print_row.append(board[i,j])\n",
    "                if hps[i,j] > 0:\n",
    "                    extra.append(str(hps[i,j]))\n",
    "        print(\"\".join(print_row),' ', ' '.join(extra))\n",
    "        \n",
    "def neighbors(cell):\n",
    "    i, j = cell\n",
    "    return filter(lambda p: p[0] >= 0 and p[1] >= 0, ((i-1, j), (i, j-1), (i, j+1), (i+1, j)))\n",
    "\n",
    "def opponent(u):\n",
    "    if u == 'G':\n",
    "        return 'E'\n",
    "    elif u == 'E':\n",
    "        return 'G'\n",
    "    else:\n",
    "        return 'X'"
   ]
  },
  {
   "cell_type": "code",
   "execution_count": 30,
   "metadata": {
    "scrolled": true
   },
   "outputs": [],
   "source": [
    "def mk_hit_points(board):\n",
    "    hp = []\n",
    "    rows, cols = board.shape\n",
    "    for i in range(rows):\n",
    "        r = []\n",
    "        for j in range(cols):\n",
    "            if board[i,j] == 'E' or board[i,j] == 'G':\n",
    "                r.append(200)\n",
    "            else:\n",
    "                r.append(0)\n",
    "        hp.append(r)\n",
    "    return(np.array(hp))"
   ]
  },
  {
   "cell_type": "code",
   "execution_count": 31,
   "metadata": {},
   "outputs": [],
   "source": [
    "def bfss(start, moves_func, goals):\n",
    "    frontier = [start]\n",
    "    previous = {start: None}\n",
    "    results  = []\n",
    "    path     = lambda s: [] if (s is None) else path(previous[s]) + [s]\n",
    "    while frontier:\n",
    "        s = frontier.pop(0)\n",
    "        if s in goals:\n",
    "            results.append(path(s))\n",
    "            for s2 in frontier:\n",
    "                if s2 in goals:\n",
    "                    results.append(path(s2))\n",
    "            return results\n",
    "        children = moves_func(s)\n",
    "        children = [c for c in children if c not in previous]\n",
    "        frontier.extend(children)\n",
    "        for c in children:\n",
    "            previous[c] = s"
   ]
  },
  {
   "cell_type": "code",
   "execution_count": 32,
   "metadata": {
    "scrolled": true
   },
   "outputs": [],
   "source": [
    "def is_unit(p, board):\n",
    "    return board[p] == 'E' or board[p] == 'G'\n",
    "\n",
    "def get_unit_coords(board):\n",
    "    rows, cols = board.shape\n",
    "    return [(i, j) for i in range(rows) for j in range(cols) if is_unit((i,j), board)]\n",
    "\n",
    "def targets(q, board):\n",
    "    rows, cols = board.shape\n",
    "    ns = (neighbors((i,j)) for i in range(rows) for j in range(cols) if board[i,j] == opponent(board[q]))\n",
    "    return [p for t in ns for p in t if board[p] == '.']\n",
    "\n",
    "def moves(p, data):\n",
    "    return filter(lambda x: get_unit(x, data) == '.', neighbors(p))\n",
    "\n",
    "def reachable(start, targets, board):\n",
    "    def moves(p):\n",
    "        return [n for n in neighbors(p) if board[n] == '.']\n",
    "    return bfss(start, moves, targets)\n",
    "\n",
    "def nearest(p, board):\n",
    "    ts = targets(p, board)\n",
    "    rs = reachable(p, ts, board)\n",
    "    if rs:\n",
    "        rs = [(path[-1], path[1:]) for path in rs]\n",
    "    if not rs:\n",
    "        return p\n",
    "    rs = [r for r in rs if r[1] != None]\n",
    "    if not rs: \n",
    "        return p\n",
    "    shortest = min(len(x[1]) for x in rs)\n",
    "    rs = [r for r in rs if len(r[1]) == shortest]\n",
    "    rs.sort()\n",
    "    return rs[0][1][0]\n",
    "\n",
    "def in_range(p, board):\n",
    "    if is_unit(p, board):\n",
    "        return [q for q in neighbors(p) if board[q] == opponent(board[p])]\n",
    "    return []\n",
    "\n",
    "def move(p, q, board, hps):\n",
    "    if p == q: return\n",
    "    board[q] = board[p]\n",
    "    board[p] = '.'\n",
    "    hps[q] = hps[p]\n",
    "    hps[p] = 0\n",
    "    \n",
    "def attack(r, power, board, hps):\n",
    "    t = hps[r]\n",
    "    t -= power\n",
    "    if t <= 0:\n",
    "        board[r] = '.'\n",
    "        hps[r] = 0\n",
    "    else:\n",
    "        hps[r] = t \n",
    "\n",
    "def turn(p, board, hps, void, elf_power=3, debug=False):\n",
    "    q = p\n",
    "    u = board[p]\n",
    "    power = elf_power if u == 'E' else 3\n",
    "    if not in_range(p, board):\n",
    "        q = nearest(p, board)\n",
    "        move(p, q, board, hps)\n",
    "    ts = in_range(q, board)\n",
    "    if ts:\n",
    "        ts.sort(key=lambda x: hps[x])\n",
    "        if debug: print('p = ', p,'q = ', q, 'ts[0] = ', ts[0])\n",
    "        attack(ts[0], power, board, hps)\n",
    "    void.add(q)\n",
    "        \n",
    "def done(board):\n",
    "    elfs = 0\n",
    "    gobs = 0\n",
    "    rows, cols = board.shape\n",
    "    for row in range(rows):\n",
    "        for col in range(cols):\n",
    "            if board[row, col] == 'E': elfs += 1\n",
    "            if board[row, col] == 'G': gobs += 1\n",
    "    return elfs == 0 or gobs == 0\n",
    "\n",
    "def rounds(board, hps, elf_power=3, debug=False):\n",
    "    xs = get_unit_coords(board)\n",
    "    void = set()\n",
    "    for (i,x) in enumerate(xs):\n",
    "        if x not in void:\n",
    "            turn(x, board, hps, void, elf_power, debug=debug)\n",
    "            if done(board) and not i == len(xs) - 1:\n",
    "                return False\n",
    "        elif done(board) and not i == len(xs) - 1:\n",
    "                return False\n",
    "    return True\n",
    "\n",
    "def roundsN(data, n):\n",
    "    board = np.array(data)\n",
    "    hps = mk_hit_points(board)\n",
    "    void = set()\n",
    "    count = 0\n",
    "    for i in range(n):\n",
    "        if i+1 == 39:\n",
    "            rounds(board, hps, debug=True)\n",
    "        else:\n",
    "            rounds(board, hps)\n",
    "        print(i+1)\n",
    "        pretty_print(board, hps)\n",
    "    \n",
    "\n",
    "def play(data, debug=False):\n",
    "    board = np.array(data)\n",
    "    hps = mk_hit_points(board)\n",
    "    count = 0\n",
    "    while not done(board):\n",
    "        complete = rounds(board, hps)\n",
    "        if complete:\n",
    "            count += 1\n",
    "    power = sum(sum(hps))\n",
    "    result = count * power\n",
    "    if debug:\n",
    "        print(count, power, result)\n",
    "    return result"
   ]
  },
  {
   "cell_type": "code",
   "execution_count": 33,
   "metadata": {
    "scrolled": true
   },
   "outputs": [],
   "source": [
    "assert play(sample15a) == 27730\n",
    "assert play(sample15b) == 36334\n",
    "assert play(sample15c) == 39514\n",
    "assert play(sample15d) == 27755\n",
    "assert play(sample15e) == 28944\n",
    "assert play(sample15f) == 18740"
   ]
  },
  {
   "cell_type": "code",
   "execution_count": 34,
   "metadata": {
    "scrolled": true
   },
   "outputs": [
    {
     "data": {
      "text/plain": [
       "237996"
      ]
     },
     "execution_count": 34,
     "metadata": {},
     "output_type": "execute_result"
    }
   ],
   "source": [
    "play(data15)"
   ]
  },
  {
   "cell_type": "markdown",
   "metadata": {},
   "source": [
    "### Part 2"
   ]
  },
  {
   "cell_type": "code",
   "execution_count": 35,
   "metadata": {},
   "outputs": [
    {
     "name": "stdout",
     "output_type": "stream",
     "text": [
      "ep = 20 rounds = 50 power = 1394\n"
     ]
    },
    {
     "data": {
      "text/plain": [
       "69700"
      ]
     },
     "execution_count": 35,
     "metadata": {},
     "output_type": "execute_result"
    }
   ],
   "source": [
    "def elf_count(board):\n",
    "    c = 0\n",
    "    for r in board:\n",
    "        for b in r:\n",
    "            if b == 'E':\n",
    "                c += 1\n",
    "    return c\n",
    "\n",
    "def play2(data):\n",
    "    ec0 = 0\n",
    "    ec = 1\n",
    "    ep = 4\n",
    "    while ec0 < ec:\n",
    "        board = np.array(data)\n",
    "        hps = mk_hit_points(board)\n",
    "        ec = elf_count(board)\n",
    "#         print('----- ', ep)\n",
    "        count = 0\n",
    "        while not done(board):\n",
    "            if elf_count(board) < ec:\n",
    "                break\n",
    "#             pretty_print(board, hps)\n",
    "            complete = rounds(board, hps, elf_power=ep)\n",
    "            if complete:\n",
    "                count += 1\n",
    "        ec0 = elf_count(board)\n",
    "        ep += 1\n",
    "    power = sum(sum(hps))\n",
    "    result = count * power \n",
    "    print('ep =', ep, 'rounds =',count, 'power =', power)\n",
    "    return result\n",
    "    \n",
    "play2(data15)"
   ]
  },
  {
   "cell_type": "markdown",
   "metadata": {},
   "source": [
    "## Day 16: Chronal Classification"
   ]
  },
  {
   "cell_type": "code",
   "execution_count": 36,
   "metadata": {},
   "outputs": [],
   "source": [
    "data16 = Input(16, integers)\n",
    "\n",
    "regs1    = (3, 2, 1, 1)\n",
    "instr1   = (9, 2, 1, 2)\n",
    "res1     = (3, 2, 2, 1)"
   ]
  },
  {
   "cell_type": "code",
   "execution_count": 37,
   "metadata": {},
   "outputs": [],
   "source": [
    "ops = ('addr', 'addi', 'mulr', 'muli', 'banr', 'bani', 'borr', 'bori',\n",
    "       'setr', 'seti', 'gtir', 'gtri', 'gtrr', 'eqir', 'eqri', 'eqrr')\n",
    "\n",
    "def evaluate(instruction=('addr', 0, 1, 2), registers=(1, 2, 0, 0)):\n",
    "    def setC(v): \n",
    "        regs = list(registers)\n",
    "        regs[instruction[3]] = v\n",
    "        return tuple(regs)\n",
    "    registerA = registers[instruction[1]]\n",
    "    registerB = registers[instruction[2]]\n",
    "    valueA    = instruction[1]\n",
    "    valueB    = instruction[2]\n",
    "    op        = instruction[0]\n",
    "    v         = 0\n",
    "    if op   == 'addr': v = registerA + registerB\n",
    "    elif op == 'addi': v = registerA + valueB\n",
    "    elif op == 'mulr': v = registerA * registerB\n",
    "    elif op == 'muli': v = registerA * valueB\n",
    "    elif op == 'banr': v = registerA & registerB\n",
    "    elif op == 'bani': v = registerA & valueB\n",
    "    elif op == 'borr': v = registerA | registerB\n",
    "    elif op == 'bori': v = registerA | valueB\n",
    "    elif op == 'setr': v = registerA\n",
    "    elif op == 'seti': v = valueA\n",
    "    elif op == 'gtir': v = 1 if valueA    > registerB  else 0\n",
    "    elif op == 'gtri': v = 1 if registerA > valueB     else 0\n",
    "    elif op == 'gtrr': v = 1 if registerA > registerB  else 0\n",
    "    elif op == 'eqir': v = 1 if valueA    == registerB else 0\n",
    "    elif op == 'eqri': v = 1 if registerA == valueB    else 0\n",
    "    elif op == 'eqrr': v = 1 if registerA == registerB else 0\n",
    "    else: raise Exception('Illegal operator')\n",
    "    return setC(v)\n",
    "\n",
    "def test_instrs(instruction, registers, result):\n",
    "    count = 0\n",
    "    for op in ops:\n",
    "        instr = (op, instruction[1], instruction[2], instruction[3])\n",
    "        if evaluate(instr, registers) == result:\n",
    "            count += 1\n",
    "    return count\n",
    "\n",
    "def classify(data):\n",
    "    at_least3 = 0\n",
    "    cpu = iter(data)\n",
    "    d = ()\n",
    "    while True:\n",
    "        d = next(cpu)\n",
    "        if d == (): break\n",
    "        regs = d\n",
    "        inst = next(cpu)\n",
    "        res  = next(cpu)\n",
    "        n = test_instrs(inst, regs, res)\n",
    "        if n >= 3:\n",
    "            at_least3 += 1\n",
    "        d = next(cpu)\n",
    "    return at_least3"
   ]
  },
  {
   "cell_type": "code",
   "execution_count": 38,
   "metadata": {},
   "outputs": [
    {
     "data": {
      "text/plain": [
       "580"
      ]
     },
     "execution_count": 38,
     "metadata": {},
     "output_type": "execute_result"
    }
   ],
   "source": [
    "classify(data16)"
   ]
  },
  {
   "cell_type": "markdown",
   "metadata": {},
   "source": [
    "### Part 2"
   ]
  },
  {
   "cell_type": "code",
   "execution_count": 39,
   "metadata": {},
   "outputs": [],
   "source": [
    "def get_program(data):\n",
    "    cpu = iter(data)\n",
    "    d3 = ()\n",
    "    while d3 == ():\n",
    "        for i in range(2):\n",
    "            d0 = next(cpu)\n",
    "        d2 = next(cpu)\n",
    "        d3 = next(cpu)\n",
    "\n",
    "    return [d2,d3] + list(cpu)\n",
    "\n",
    "def assign(instruction, registers, result, opcodes):\n",
    "    codes = []\n",
    "    for op in ops:\n",
    "        instr = (op, instruction[1], instruction[2], instruction[3])\n",
    "        if evaluate(instr, registers) == result:\n",
    "            codes.append(op)\n",
    "    previous = opcodes[instruction[0]]\n",
    "    if previous == []:\n",
    "        new = codes\n",
    "    else: \n",
    "        new = [c for c in codes if c in previous]\n",
    "    opcodes[instruction[0]] = new\n",
    "\n",
    "def find_codes(data):\n",
    "    opcodes = defaultdict(list)\n",
    "    cpu = iter(data)\n",
    "    d = ()\n",
    "    while True:\n",
    "        d = next(cpu)\n",
    "        if d == (): break\n",
    "        regs = d\n",
    "        inst = next(cpu)\n",
    "        res  = next(cpu)\n",
    "        assign(inst, regs, res, opcodes)\n",
    "        d = next(cpu)\n",
    "    return opcodes\n",
    "            \n",
    "    \n",
    "def resolve(codes):\n",
    "    d = dict()\n",
    "    dead1 = []\n",
    "    dead2 = []\n",
    "    for c in codes:\n",
    "        if len(codes[c]) == 1:\n",
    "            d[c] = (codes[c][0])\n",
    "            dead1.append(c)\n",
    "            dead2.append(codes[c][0])\n",
    "    for x in dead1:\n",
    "        codes.pop(x)\n",
    "    for c in codes:\n",
    "        for x in dead2:\n",
    "            if x in codes[c]:\n",
    "                codes[c].remove(x)\n",
    "    return d\n",
    "\n",
    "def go16(data):\n",
    "    codes = find_codes(data)\n",
    "    d = dict()\n",
    "    while codes:\n",
    "        d2 = resolve(codes)\n",
    "        d = {**d, **d2} # merge d and d2\n",
    "    return d\n",
    "\n",
    "def run(program, codes):\n",
    "    registers = (0,0,0,0)\n",
    "    for p in program:\n",
    "        instr = (codes[p[0]], p[1], p[2], p[3])\n",
    "        registers = evaluate(instr, registers)\n",
    "    return registers"
   ]
  },
  {
   "cell_type": "code",
   "execution_count": 40,
   "metadata": {},
   "outputs": [
    {
     "data": {
      "text/plain": [
       "(537, 2, 3, 2)"
      ]
     },
     "execution_count": 40,
     "metadata": {},
     "output_type": "execute_result"
    }
   ],
   "source": [
    "program = get_program(data16)\n",
    "codes = go16(data16)\n",
    "run(program, codes)\n"
   ]
  },
  {
   "cell_type": "markdown",
   "metadata": {},
   "source": [
    "## Day 17: Reservoir Research"
   ]
  },
  {
   "cell_type": "code",
   "execution_count": 41,
   "metadata": {},
   "outputs": [],
   "source": [
    "data17 = Input(17,lambda x: x.rstrip().split(', '))\n",
    "data17 = tuple([sorted(t) for t in data17])\n",
    "data17 = tuple([mapt(integers, x) for x in data17])\n",
    "\n",
    "sample17 = \"\"\"x=495, y=2..7\n",
    "y=7, x=495..501\n",
    "x=501, y=3..7\n",
    "x=498, y=2..4\n",
    "x=506, y=1..2\n",
    "x=498, y=10..13\n",
    "x=504, y=10..13\n",
    "y=13, x=498..504\n",
    "\"\"\"\n",
    "\n",
    "sample17 = sample17.split('\\n')\n",
    "sample17 = sample17[:-1]\n",
    "sample17 = [x.split(', ') for x in sample17]\n",
    "sample17 = tuple([sorted(t) for t in sample17])\n",
    "sample17 = tuple([mapt(integers, x) for x in sample17])"
   ]
  },
  {
   "cell_type": "code",
   "execution_count": 248,
   "metadata": {},
   "outputs": [],
   "source": [
    "def clay(data):\n",
    "    s = set()\n",
    "    for (t1, t2) in data:\n",
    "        if len(t1) == 1:\n",
    "            for n in range(t2[0], t2[1]+1):\n",
    "                s.add(Point2D(t1[0], n))\n",
    "        else:\n",
    "            for n in range(t1[0], t1[1]+1):\n",
    "                s.add(Point2D(n, t2[0]))\n",
    "    return frozenset(s)\n",
    "            \n",
    "def down(p):  return Point2D(p.x, p.y + 1)\n",
    "def left(p):  return Point2D(p.x - 1, p.y)\n",
    "def right(p): return Point2D(p.x + 1, p.y)\n",
    "def up(p):    return Point2D(p.x, p.y - 1)\n",
    "\n",
    "def show17(clays, waters, wet):\n",
    "    m = max([c.y for c in clays])\n",
    "#     x = max([c.x for c in clays])\n",
    "    for j in range(0,m+1):\n",
    "        for i in range(250,320):\n",
    "            if Point2D(i,j) in waters:\n",
    "                print('~', end='')\n",
    "            elif Point2D(i,j) in wet:\n",
    "                print('|', end='')\n",
    "            elif Point2D(i,j) in clays:\n",
    "                print('#', end='')\n",
    "            elif j==0 and i==500:\n",
    "                print('+', end='')\n",
    "            else:\n",
    "                print('.', end='')\n",
    "        print()\n",
    "    print()\n",
    "    \n",
    "def drip(loc, clays, waters, wet, ymax):\n",
    "    def clear(p): return p not in clays and p not in waters\n",
    "    def left_block(p):\n",
    "        while clear(left(p)) and not clear(down(p)):\n",
    "            p = left(p)\n",
    "            wet.add(p)\n",
    "        blocked = not clear(down(p))\n",
    "        return (p, blocked)\n",
    "    def right_block(p):\n",
    "        while clear(right(p)) and not clear(down(p)):\n",
    "            p = right(p)\n",
    "            wet.add(p)\n",
    "        blocked = not clear(down(p))\n",
    "        return (p, blocked)\n",
    "    def go(loc):\n",
    "        results = set()\n",
    "        if loc.y >= ymax: \n",
    "            return set()\n",
    "        d = down(loc)\n",
    "        while clear(d) and d.y < ymax:\n",
    "            wet.add(d)\n",
    "            d = down(d)\n",
    "        if d.y >= ymax and d not in clays:\n",
    "            return set()\n",
    "        loc = up(d)\n",
    "        l = left(loc)\n",
    "        r = right(loc)\n",
    "        l, bl = left_block(loc)\n",
    "        r, br = right_block(loc)\n",
    "        if bl and br:\n",
    "            for x in range(l.x, r.x + 1):\n",
    "                waters.add(Point2D(x, loc.y))\n",
    "            return set()\n",
    "        if not bl: results.add(l)\n",
    "        if not br: results.add(r)\n",
    "        return results\n",
    "    locs = {loc}\n",
    "    while locs:\n",
    "        result = set()\n",
    "        for l in locs:\n",
    "            result = result.union(go(l))\n",
    "        locs = result\n",
    "        \n",
    "def drips(loc, clays, waters, wet):\n",
    "    m = max([c.y for c in clays])\n",
    "    complete = False\n",
    "#     while not complete:\n",
    "    for i in range(165):\n",
    "        complete = drip(loc, clays, waters, wet, m)\n",
    "#     complete = False\n",
    "#     while not complete:\n",
    "#         complete = dripr(loc, clays, waters, wet, m)\n",
    "    return len(waters.union(wet)), len(waters)"
   ]
  },
  {
   "cell_type": "code",
   "execution_count": 74,
   "metadata": {},
   "outputs": [
    {
     "name": "stdout",
     "output_type": "stream",
     "text": [
      "(37075, 29289)\n"
     ]
    }
   ],
   "source": [
    "import sys\n",
    "wet = set()\n",
    "waters = set()\n",
    "s = drips(Point2D(500, 0), clay(data17), waters, wet)\n",
    "print(s)"
   ]
  },
  {
   "cell_type": "markdown",
   "metadata": {},
   "source": [
    "Should be 37,073 not sure what's wrong"
   ]
  },
  {
   "cell_type": "code",
   "execution_count": 273,
   "metadata": {},
   "outputs": [],
   "source": [
    "def mat(clays, waters, wet):\n",
    "    result = []\n",
    "    for x in range(0,575):\n",
    "        row = []\n",
    "        for y in range(-10, 1660):\n",
    "            p = Point2D(x, y)\n",
    "            if p in clays: row.append(0)\n",
    "            elif p in waters: row.append(0.6)\n",
    "            elif p in wet: row.append(0.6)\n",
    "            else: row.append(1)\n",
    "        result.append(row)\n",
    "    return result\n",
    "            \n",
    "m = mat(clay(data17), waters, wet)"
   ]
  },
  {
   "cell_type": "code",
   "execution_count": 274,
   "metadata": {},
   "outputs": [
    {
     "data": {
      "image/png": "[encoded data removed]",
      "text/plain": [
       "<Figure size 1152x1152 with 1 Axes>"
      ]
     },
     "metadata": {
      "needs_background": "light"
     },
     "output_type": "display_data"
    }
   ],
   "source": [
    "plt.imshow(transpose(m), aspect=0.35, cmap='magma');"
   ]
  },
  {
   "cell_type": "markdown",
   "metadata": {},
   "source": [
    "## Day 18: Settlers of The North Pole"
   ]
  },
  {
   "cell_type": "code",
   "execution_count": 179,
   "metadata": {},
   "outputs": [],
   "source": [
    "data18 = mapt(tuple, Input(18))\n",
    "rows18 = len(data18)\n",
    "cols18 = len(data18[0])\n",
    "\n",
    "sample18 = \"\"\".#.#...|#.\n",
    ".....#|##|\n",
    ".|..|...#.\n",
    "..|#.....#\n",
    "#.#|||#|#|\n",
    "...#.||...\n",
    ".|....|...\n",
    "||...#|.#|\n",
    "|.||||..|.\n",
    "...#.|..|.\n",
    "\"\"\"\n",
    "\n",
    "sample18 = mapt(tuple, sample18.splitlines())"
   ]
  },
  {
   "cell_type": "code",
   "execution_count": 177,
   "metadata": {},
   "outputs": [],
   "source": [
    "def neighbors(row, col, size):\n",
    "    rs = [r for r in [row - 1, row, row + 1] if r >=0 and r < size]\n",
    "    cs = [c for c in [col - 1, col, col + 1] if c >=0 and c < size]\n",
    "    return [(r, c) for r in rs for c in cs if (r, c) != (row, col)]\n",
    "\n",
    "def counts(row, col, grid):\n",
    "    ns = neighbors(row, col, len(grid))\n",
    "    trees = 0\n",
    "    yards = 0\n",
    "    for n in ns:\n",
    "        if   grid[n[0]][n[1]] == '|': trees += 1\n",
    "        elif grid[n[0]][n[1]] == '#': yards += 1\n",
    "    return (trees, yards)\n",
    "\n",
    "def evolve(grid):\n",
    "    result = []\n",
    "    for r in range(len(grid)):\n",
    "        row = []\n",
    "        for c in range(len(grid)):\n",
    "            trees, yards = counts(r, c, grid)\n",
    "            if grid[r][c] == '.':\n",
    "                if trees >= 3: row.append('|')\n",
    "                else: row.append('.')\n",
    "            elif grid[r][c] == '|':\n",
    "                if yards >= 3: row.append('#')\n",
    "                else: row.append('|')\n",
    "            elif grid[r][c] == '#':\n",
    "                if trees >= 1 and yards >= 1: row.append('#')\n",
    "                else: row.append('.')\n",
    "        result.append(row)\n",
    "    return result\n",
    "\n",
    "def show18(grid):\n",
    "    for r in grid:\n",
    "        print(cat(r))\n",
    "                \n",
    "def solve18(grid):\n",
    "    g = grid\n",
    "    for i in range(1000):\n",
    "        g = evolve(g)\n",
    "    trees = 0\n",
    "    yards = 0\n",
    "    for r in range(len(g)):\n",
    "        for c in range(len(g)):\n",
    "            if g[r][c] == '|': trees += 1\n",
    "            elif g[r][c] == '#': yards += 1\n",
    "    show18(g)\n",
    "    return trees * yards"
   ]
  },
  {
   "cell_type": "code",
   "execution_count": 178,
   "metadata": {},
   "outputs": [
    {
     "name": "stdout",
     "output_type": "stream",
     "text": [
      "......................##||||.............##||.....\n",
      "......................####||.............##|||....\n",
      "........................##|||.............##||....\n",
      ".........................##||.............##|||...\n",
      ".........................##|||.............##||...\n",
      "..........................##||.............##|||..\n",
      "...|||....................##|||.............##||..\n",
      ".|||||||...................##||.............##|||.\n",
      "||||#|||||.................##|||.............##||.\n",
      "||#####|||||................##||.............##|||\n",
      "####.####|||||..............##|||.............##||\n",
      "##.....####|||||.............##||.............##||\n",
      ".........####|||.............##|||.............##|\n",
      "...........###|||.............##||.............##|\n",
      ".............##||.............##|||.............##\n",
      ".............##|||.............##||.............##\n",
      "..............##||.............##|||..............\n",
      "..............##|||.............##||..............\n",
      "...............##||.............##|||.............\n",
      "...............##|||.............##||.............\n",
      "................##||.............##|||............\n",
      "................##|||.............##||............\n",
      "................##|||.............##|||...........\n",
      "....|..........##||||..............##||...........\n",
      "...|||.........##|||||............##|||...........\n",
      "..|||##.......##||||||............##||............\n",
      "..||##........##|||###...........##|||............\n",
      ".|||##.......##||||##............##||.............\n",
      "..||##.......##|||##............##|||.............\n",
      "...|.........##||||##...........##||..............\n",
      ".............##||||##..........##|||..............\n",
      ".............##|||||##.......####||.............##\n",
      ".............##|||||####...####||||.............##\n",
      "............##|||.||||#######|||||.............##|\n",
      "............##||...|||||###|||||...............##|\n",
      "...........##|||.....|||||||||................##||\n",
      "...........##||........|||||..................##||\n",
      "..........##|||..........|...................##|||\n",
      "..........##||...............................##||.\n",
      "........###|||..............................##|||.\n",
      "......####|||...............................##||..\n",
      "....####|||||..............................##|||..\n",
      "######|||||...............................###||...\n",
      "|###|||||...............................####|||...\n",
      "|||||||...............................####||||....\n",
      "|||||...............................####|||||.....\n",
      "..|...............................####|||||.......\n",
      "................................####|||||.........\n",
      "..............................####|||||...........\n",
      "..............................##|||||.............\n"
     ]
    },
    {
     "data": {
      "text/plain": [
       "107912"
      ]
     },
     "execution_count": 178,
     "metadata": {},
     "output_type": "execute_result"
    }
   ],
   "source": [
    "solve18(data18)"
   ]
  },
  {
   "cell_type": "markdown",
   "metadata": {},
   "source": [
    "## Day 19: Go With The Flow"
   ]
  },
  {
   "cell_type": "code",
   "execution_count": null,
   "metadata": {},
   "outputs": [],
   "source": []
  }
 ],
 "metadata": {
  "kernelspec": {
   "display_name": "Python 3",
   "language": "python",
   "name": "python3"
  },
  "language_info": {
   "codemirror_mode": {
    "name": "ipython",
    "version": 3
   },
   "file_extension": ".py",
   "mimetype": "text/x-python",
   "name": "python",
   "nbconvert_exporter": "python",
   "pygments_lexer": "ipython3",
   "version": "3.7.1"
  }
 },
 "nbformat": 4,
 "nbformat_minor": 1
}
